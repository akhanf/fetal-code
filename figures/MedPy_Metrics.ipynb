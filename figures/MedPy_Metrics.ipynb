{
 "cells": [
  {
   "cell_type": "code",
   "execution_count": 51,
   "metadata": {},
   "outputs": [],
   "source": [
    "import os\n",
    "import pandas as pd\n",
    "from medpy.io import load\n",
    "from medpy.metric import binary\n",
    "import nipype.interfaces.fsl as fsl"
   ]
  },
  {
   "cell_type": "markdown",
   "metadata": {},
   "source": [
    "## Calculate WSU Test Set Evaluation Metrics"
   ]
  },
  {
   "cell_type": "code",
   "execution_count": 52,
   "metadata": {},
   "outputs": [],
   "source": [
    "GTdir = 'test-GT-masks-WSU/'\n",
    "Preddir = 'test-Pred-masks-WSU/binary/'\n",
    "BETdir = 'test-BET-masks-WSU/'\n",
    "SSdir = 'test-3dSkullStrip-masks-WSU/binary/'\n",
    "AnatUNetdir = 'test-AnatUNet-masks-WSU/'\n",
    "GTnames = [GTdir + name for name in os.listdir(GTdir)]\n",
    "Prednames = [Preddir + name for name in os.listdir(Preddir)]\n",
    "BETnames = [BETdir + name for name in os.listdir(BETdir)]\n",
    "SSnames = [SSdir + name for name in os.listdir(SSdir)]\n",
    "AnatUNetnames = [AnatUNetdir + name for name in os.listdir(AnatUNetdir)]"
   ]
  },
  {
   "cell_type": "code",
   "execution_count": 53,
   "metadata": {},
   "outputs": [],
   "source": [
    "GTnames.sort()"
   ]
  },
  {
   "cell_type": "code",
   "execution_count": 54,
   "metadata": {},
   "outputs": [],
   "source": [
    "Prednames.sort()"
   ]
  },
  {
   "cell_type": "code",
   "execution_count": 55,
   "metadata": {},
   "outputs": [],
   "source": [
    "BETnames.sort()"
   ]
  },
  {
   "cell_type": "code",
   "execution_count": 56,
   "metadata": {},
   "outputs": [],
   "source": [
    "SSnames.sort()"
   ]
  },
  {
   "cell_type": "code",
   "execution_count": 57,
   "metadata": {},
   "outputs": [],
   "source": [
    "AnatUNetnames.sort()"
   ]
  },
  {
   "cell_type": "code",
   "execution_count": null,
   "metadata": {},
   "outputs": [],
   "source": [
    "len(Prednames)"
   ]
  },
  {
   "cell_type": "code",
   "execution_count": null,
   "metadata": {},
   "outputs": [],
   "source": [
    "len(GTnames)"
   ]
  },
  {
   "cell_type": "code",
   "execution_count": null,
   "metadata": {},
   "outputs": [],
   "source": [
    "len(BETnames)"
   ]
  },
  {
   "cell_type": "code",
   "execution_count": null,
   "metadata": {},
   "outputs": [],
   "source": [
    "len(SSnames)"
   ]
  },
  {
   "cell_type": "code",
   "execution_count": null,
   "metadata": {},
   "outputs": [],
   "source": [
    "len(AnatUNetnames)"
   ]
  },
  {
   "cell_type": "code",
   "execution_count": 58,
   "metadata": {},
   "outputs": [],
   "source": [
    "WSU_Pred_df = pd.DataFrame(columns=('File', 'Pred_Dice', 'Pred_Jaccard', 'Pred_HD(voxels)', 'Pred_Sensitivity', 'Pred_Specificity'))\n",
    "for idx, GTname in enumerate(GTnames):\n",
    "    GT_data, GT_header = load(GTnames[idx])\n",
    "    Pred_data, Pred_header = load(Prednames[idx])\n",
    "    dice = binary.dc(GT_data,Pred_data)\n",
    "    jc = binary.jc(GT_data,Pred_data)\n",
    "    hd = binary.hd(GT_data,Pred_data)\n",
    "    sens = binary.sensitivity(GT_data,Pred_data)\n",
    "    spec = binary.specificity(GT_data,Pred_data)\n",
    "    TPR = binary.true_positive_rate(GT_data,Pred_data)\n",
    "    TNR = binary.true_negative_rate(GT_data,Pred_data)\n",
    "    vol_diff = binary.ravd(GT_data,Pred_data)\n",
    "    WSU_Pred_df.loc[idx] = (GTname, dice, jc, hd, sens, spec)"
   ]
  },
  {
   "cell_type": "code",
   "execution_count": 59,
   "metadata": {},
   "outputs": [
    {
     "data": {
      "text/html": [
       "<div>\n",
       "<style scoped>\n",
       "    .dataframe tbody tr th:only-of-type {\n",
       "        vertical-align: middle;\n",
       "    }\n",
       "\n",
       "    .dataframe tbody tr th {\n",
       "        vertical-align: top;\n",
       "    }\n",
       "\n",
       "    .dataframe thead th {\n",
       "        text-align: right;\n",
       "    }\n",
       "</style>\n",
       "<table border=\"1\" class=\"dataframe\">\n",
       "  <thead>\n",
       "    <tr style=\"text-align: right;\">\n",
       "      <th></th>\n",
       "      <th>Pred_Dice</th>\n",
       "      <th>Pred_Jaccard</th>\n",
       "      <th>Pred_HD(voxels)</th>\n",
       "      <th>Pred_Sensitivity</th>\n",
       "      <th>Pred_Specificity</th>\n",
       "    </tr>\n",
       "  </thead>\n",
       "  <tbody>\n",
       "    <tr>\n",
       "      <th>count</th>\n",
       "      <td>206.000000</td>\n",
       "      <td>206.000000</td>\n",
       "      <td>206.000000</td>\n",
       "      <td>206.000000</td>\n",
       "      <td>206.000000</td>\n",
       "    </tr>\n",
       "    <tr>\n",
       "      <th>mean</th>\n",
       "      <td>0.943519</td>\n",
       "      <td>0.894362</td>\n",
       "      <td>3.466261</td>\n",
       "      <td>0.898577</td>\n",
       "      <td>0.999873</td>\n",
       "    </tr>\n",
       "    <tr>\n",
       "      <th>std</th>\n",
       "      <td>0.030167</td>\n",
       "      <td>0.045598</td>\n",
       "      <td>6.402712</td>\n",
       "      <td>0.039289</td>\n",
       "      <td>0.000736</td>\n",
       "    </tr>\n",
       "    <tr>\n",
       "      <th>min</th>\n",
       "      <td>0.596073</td>\n",
       "      <td>0.424575</td>\n",
       "      <td>1.414214</td>\n",
       "      <td>0.561922</td>\n",
       "      <td>0.989415</td>\n",
       "    </tr>\n",
       "    <tr>\n",
       "      <th>25%</th>\n",
       "      <td>0.936329</td>\n",
       "      <td>0.880280</td>\n",
       "      <td>2.000000</td>\n",
       "      <td>0.882743</td>\n",
       "      <td>0.999907</td>\n",
       "    </tr>\n",
       "    <tr>\n",
       "      <th>50%</th>\n",
       "      <td>0.948917</td>\n",
       "      <td>0.902799</td>\n",
       "      <td>2.236068</td>\n",
       "      <td>0.904858</td>\n",
       "      <td>0.999943</td>\n",
       "    </tr>\n",
       "    <tr>\n",
       "      <th>75%</th>\n",
       "      <td>0.958920</td>\n",
       "      <td>0.921083</td>\n",
       "      <td>3.000000</td>\n",
       "      <td>0.924351</td>\n",
       "      <td>0.999966</td>\n",
       "    </tr>\n",
       "    <tr>\n",
       "      <th>max</th>\n",
       "      <td>0.972995</td>\n",
       "      <td>0.947410</td>\n",
       "      <td>54.332311</td>\n",
       "      <td>0.958867</td>\n",
       "      <td>1.000000</td>\n",
       "    </tr>\n",
       "  </tbody>\n",
       "</table>\n",
       "</div>"
      ],
      "text/plain": [
       "        Pred_Dice  Pred_Jaccard  Pred_HD(voxels)  Pred_Sensitivity  \\\n",
       "count  206.000000    206.000000       206.000000        206.000000   \n",
       "mean     0.943519      0.894362         3.466261          0.898577   \n",
       "std      0.030167      0.045598         6.402712          0.039289   \n",
       "min      0.596073      0.424575         1.414214          0.561922   \n",
       "25%      0.936329      0.880280         2.000000          0.882743   \n",
       "50%      0.948917      0.902799         2.236068          0.904858   \n",
       "75%      0.958920      0.921083         3.000000          0.924351   \n",
       "max      0.972995      0.947410        54.332311          0.958867   \n",
       "\n",
       "       Pred_Specificity  \n",
       "count        206.000000  \n",
       "mean           0.999873  \n",
       "std            0.000736  \n",
       "min            0.989415  \n",
       "25%            0.999907  \n",
       "50%            0.999943  \n",
       "75%            0.999966  \n",
       "max            1.000000  "
      ]
     },
     "execution_count": 59,
     "metadata": {},
     "output_type": "execute_result"
    }
   ],
   "source": [
    "WSU_Pred_df.describe()"
   ]
  },
  {
   "cell_type": "code",
   "execution_count": 60,
   "metadata": {},
   "outputs": [],
   "source": [
    "WSU_BET_df = pd.DataFrame(columns=('File', 'BET_Dice', 'BET_Jaccard', 'BET_HD(voxels)', 'BET_Sensitivity', 'BET_Specificity'))\n",
    "for idx, GTname in enumerate(GTnames):\n",
    "    GT_data, GT_header = load(GTnames[idx])\n",
    "    BET_data, BET_header = load(BETnames[idx])\n",
    "    dice = binary.dc(GT_data,BET_data)\n",
    "    jc = binary.jc(GT_data,BET_data)\n",
    "    hd = binary.hd(GT_data,BET_data)\n",
    "    sens = binary.sensitivity(GT_data,BET_data)\n",
    "    spec = binary.specificity(GT_data,BET_data)\n",
    "    WSU_BET_df.loc[idx] = (GTname, dice, jc, hd, sens, spec)"
   ]
  },
  {
   "cell_type": "code",
   "execution_count": 61,
   "metadata": {},
   "outputs": [
    {
     "data": {
      "text/html": [
       "<div>\n",
       "<style scoped>\n",
       "    .dataframe tbody tr th:only-of-type {\n",
       "        vertical-align: middle;\n",
       "    }\n",
       "\n",
       "    .dataframe tbody tr th {\n",
       "        vertical-align: top;\n",
       "    }\n",
       "\n",
       "    .dataframe thead th {\n",
       "        text-align: right;\n",
       "    }\n",
       "</style>\n",
       "<table border=\"1\" class=\"dataframe\">\n",
       "  <thead>\n",
       "    <tr style=\"text-align: right;\">\n",
       "      <th></th>\n",
       "      <th>BET_Dice</th>\n",
       "      <th>BET_Jaccard</th>\n",
       "      <th>BET_HD(voxels)</th>\n",
       "      <th>BET_Sensitivity</th>\n",
       "      <th>BET_Specificity</th>\n",
       "    </tr>\n",
       "  </thead>\n",
       "  <tbody>\n",
       "    <tr>\n",
       "      <th>count</th>\n",
       "      <td>206.000000</td>\n",
       "      <td>206.000000</td>\n",
       "      <td>206.000000</td>\n",
       "      <td>206.000000</td>\n",
       "      <td>206.000000</td>\n",
       "    </tr>\n",
       "    <tr>\n",
       "      <th>mean</th>\n",
       "      <td>0.220224</td>\n",
       "      <td>0.129732</td>\n",
       "      <td>32.184385</td>\n",
       "      <td>0.129785</td>\n",
       "      <td>0.999628</td>\n",
       "    </tr>\n",
       "    <tr>\n",
       "      <th>std</th>\n",
       "      <td>0.125834</td>\n",
       "      <td>0.085560</td>\n",
       "      <td>10.476701</td>\n",
       "      <td>0.085579</td>\n",
       "      <td>0.002552</td>\n",
       "    </tr>\n",
       "    <tr>\n",
       "      <th>min</th>\n",
       "      <td>0.000000</td>\n",
       "      <td>0.000000</td>\n",
       "      <td>13.190906</td>\n",
       "      <td>0.000000</td>\n",
       "      <td>0.977588</td>\n",
       "    </tr>\n",
       "    <tr>\n",
       "      <th>25%</th>\n",
       "      <td>0.120639</td>\n",
       "      <td>0.064191</td>\n",
       "      <td>24.596647</td>\n",
       "      <td>0.064191</td>\n",
       "      <td>1.000000</td>\n",
       "    </tr>\n",
       "    <tr>\n",
       "      <th>50%</th>\n",
       "      <td>0.205116</td>\n",
       "      <td>0.114279</td>\n",
       "      <td>31.056399</td>\n",
       "      <td>0.114279</td>\n",
       "      <td>1.000000</td>\n",
       "    </tr>\n",
       "    <tr>\n",
       "      <th>75%</th>\n",
       "      <td>0.293628</td>\n",
       "      <td>0.172077</td>\n",
       "      <td>37.706100</td>\n",
       "      <td>0.172077</td>\n",
       "      <td>1.000000</td>\n",
       "    </tr>\n",
       "    <tr>\n",
       "      <th>max</th>\n",
       "      <td>0.583371</td>\n",
       "      <td>0.411803</td>\n",
       "      <td>63.015871</td>\n",
       "      <td>0.411912</td>\n",
       "      <td>1.000000</td>\n",
       "    </tr>\n",
       "  </tbody>\n",
       "</table>\n",
       "</div>"
      ],
      "text/plain": [
       "         BET_Dice  BET_Jaccard  BET_HD(voxels)  BET_Sensitivity  \\\n",
       "count  206.000000   206.000000      206.000000       206.000000   \n",
       "mean     0.220224     0.129732       32.184385         0.129785   \n",
       "std      0.125834     0.085560       10.476701         0.085579   \n",
       "min      0.000000     0.000000       13.190906         0.000000   \n",
       "25%      0.120639     0.064191       24.596647         0.064191   \n",
       "50%      0.205116     0.114279       31.056399         0.114279   \n",
       "75%      0.293628     0.172077       37.706100         0.172077   \n",
       "max      0.583371     0.411803       63.015871         0.411912   \n",
       "\n",
       "       BET_Specificity  \n",
       "count       206.000000  \n",
       "mean          0.999628  \n",
       "std           0.002552  \n",
       "min           0.977588  \n",
       "25%           1.000000  \n",
       "50%           1.000000  \n",
       "75%           1.000000  \n",
       "max           1.000000  "
      ]
     },
     "execution_count": 61,
     "metadata": {},
     "output_type": "execute_result"
    }
   ],
   "source": [
    "WSU_BET_df.describe()"
   ]
  },
  {
   "cell_type": "code",
   "execution_count": 62,
   "metadata": {},
   "outputs": [],
   "source": [
    "WSU_3dSS_df = pd.DataFrame(columns=('File', '3dSS_Dice', '3dSS_Jaccard', '3dSS_HD(voxels)', '3dSS_Sensitivity', '3dSS_Specificity'))\n",
    "for idx, GTname in enumerate(GTnames):\n",
    "    GT_data, GT_header = load(GTnames[idx])\n",
    "    SS_data, SS_header = load(SSnames[idx])\n",
    "    dice = binary.dc(GT_data,SS_data)\n",
    "    jc = binary.jc(GT_data,SS_data)\n",
    "    hd = binary.hd(GT_data,SS_data)\n",
    "    sens = binary.sensitivity(GT_data,SS_data)\n",
    "    spec = binary.specificity(GT_data,SS_data)\n",
    "    WSU_3dSS_df.loc[idx] = (GTname, dice, jc, hd, sens, spec)"
   ]
  },
  {
   "cell_type": "code",
   "execution_count": 63,
   "metadata": {},
   "outputs": [
    {
     "data": {
      "text/html": [
       "<div>\n",
       "<style scoped>\n",
       "    .dataframe tbody tr th:only-of-type {\n",
       "        vertical-align: middle;\n",
       "    }\n",
       "\n",
       "    .dataframe tbody tr th {\n",
       "        vertical-align: top;\n",
       "    }\n",
       "\n",
       "    .dataframe thead th {\n",
       "        text-align: right;\n",
       "    }\n",
       "</style>\n",
       "<table border=\"1\" class=\"dataframe\">\n",
       "  <thead>\n",
       "    <tr style=\"text-align: right;\">\n",
       "      <th></th>\n",
       "      <th>3dSS_Dice</th>\n",
       "      <th>3dSS_Jaccard</th>\n",
       "      <th>3dSS_HD(voxels)</th>\n",
       "      <th>3dSS_Sensitivity</th>\n",
       "      <th>3dSS_Specificity</th>\n",
       "    </tr>\n",
       "  </thead>\n",
       "  <tbody>\n",
       "    <tr>\n",
       "      <th>count</th>\n",
       "      <td>206.000000</td>\n",
       "      <td>206.000000</td>\n",
       "      <td>206.000000</td>\n",
       "      <td>206.000000</td>\n",
       "      <td>206.000000</td>\n",
       "    </tr>\n",
       "    <tr>\n",
       "      <th>mean</th>\n",
       "      <td>0.238408</td>\n",
       "      <td>0.139202</td>\n",
       "      <td>29.492450</td>\n",
       "      <td>0.139780</td>\n",
       "      <td>0.999125</td>\n",
       "    </tr>\n",
       "    <tr>\n",
       "      <th>std</th>\n",
       "      <td>0.101676</td>\n",
       "      <td>0.067487</td>\n",
       "      <td>7.442543</td>\n",
       "      <td>0.067643</td>\n",
       "      <td>0.002991</td>\n",
       "    </tr>\n",
       "    <tr>\n",
       "      <th>min</th>\n",
       "      <td>0.000456</td>\n",
       "      <td>0.000228</td>\n",
       "      <td>18.357560</td>\n",
       "      <td>0.000267</td>\n",
       "      <td>0.978649</td>\n",
       "    </tr>\n",
       "    <tr>\n",
       "      <th>25%</th>\n",
       "      <td>0.164886</td>\n",
       "      <td>0.089850</td>\n",
       "      <td>24.140200</td>\n",
       "      <td>0.090425</td>\n",
       "      <td>0.999691</td>\n",
       "    </tr>\n",
       "    <tr>\n",
       "      <th>50%</th>\n",
       "      <td>0.223015</td>\n",
       "      <td>0.125502</td>\n",
       "      <td>27.712789</td>\n",
       "      <td>0.125532</td>\n",
       "      <td>0.999950</td>\n",
       "    </tr>\n",
       "    <tr>\n",
       "      <th>75%</th>\n",
       "      <td>0.323914</td>\n",
       "      <td>0.193260</td>\n",
       "      <td>33.581974</td>\n",
       "      <td>0.193523</td>\n",
       "      <td>0.999993</td>\n",
       "    </tr>\n",
       "    <tr>\n",
       "      <th>max</th>\n",
       "      <td>0.505361</td>\n",
       "      <td>0.338115</td>\n",
       "      <td>55.235858</td>\n",
       "      <td>0.339579</td>\n",
       "      <td>1.000000</td>\n",
       "    </tr>\n",
       "  </tbody>\n",
       "</table>\n",
       "</div>"
      ],
      "text/plain": [
       "        3dSS_Dice  3dSS_Jaccard  3dSS_HD(voxels)  3dSS_Sensitivity  \\\n",
       "count  206.000000    206.000000       206.000000        206.000000   \n",
       "mean     0.238408      0.139202        29.492450          0.139780   \n",
       "std      0.101676      0.067487         7.442543          0.067643   \n",
       "min      0.000456      0.000228        18.357560          0.000267   \n",
       "25%      0.164886      0.089850        24.140200          0.090425   \n",
       "50%      0.223015      0.125502        27.712789          0.125532   \n",
       "75%      0.323914      0.193260        33.581974          0.193523   \n",
       "max      0.505361      0.338115        55.235858          0.339579   \n",
       "\n",
       "       3dSS_Specificity  \n",
       "count        206.000000  \n",
       "mean           0.999125  \n",
       "std            0.002991  \n",
       "min            0.978649  \n",
       "25%            0.999691  \n",
       "50%            0.999950  \n",
       "75%            0.999993  \n",
       "max            1.000000  "
      ]
     },
     "execution_count": 63,
     "metadata": {},
     "output_type": "execute_result"
    }
   ],
   "source": [
    "WSU_3dSS_df.describe()"
   ]
  },
  {
   "cell_type": "code",
   "execution_count": 64,
   "metadata": {},
   "outputs": [],
   "source": [
    "WSUmerge1 = pd.merge(WSU_Pred_df, WSU_BET_df)"
   ]
  },
  {
   "cell_type": "code",
   "execution_count": 65,
   "metadata": {},
   "outputs": [],
   "source": [
    "WSUmerge2 = pd.merge(WSUmerge1, WSU_3dSS_df)"
   ]
  },
  {
   "cell_type": "markdown",
   "metadata": {},
   "source": [
    "## Calculate Yale Test Set Evaluation Metrics"
   ]
  },
  {
   "cell_type": "code",
   "execution_count": 68,
   "metadata": {},
   "outputs": [],
   "source": [
    "Yale_GTdir = 'test-GT-masks-Yale/'\n",
    "Yale_Preddir = 'test-Pred-masks-Yale/binary/swapdim/'\n",
    "Yale_BETdir = 'test-BET-masks-Yale/'\n",
    "Yale_SSdir = 'test-3dSkullStrip-masks-Yale/binary/'\n",
    "Yale_AnatUNetdir = 'test-AnatUNet-masks-Yale/'\n",
    "Yale_GTnames = [Yale_GTdir + name for name in os.listdir(Yale_GTdir)]\n",
    "Yale_Prednames = [Yale_Preddir + name for name in os.listdir(Yale_Preddir)]\n",
    "Yale_BETnames = [Yale_BETdir + name for name in os.listdir(Yale_BETdir)]\n",
    "Yale_SSnames = [Yale_SSdir + name for name in os.listdir(Yale_SSdir)]\n",
    "Yale_AnatUNetnames = [Yale_AnatUNetdir + name for name in os.listdir(Yale_AnatUNetdir)]"
   ]
  },
  {
   "cell_type": "code",
   "execution_count": 69,
   "metadata": {},
   "outputs": [],
   "source": [
    "Yale_GTnames.sort()"
   ]
  },
  {
   "cell_type": "code",
   "execution_count": 70,
   "metadata": {},
   "outputs": [],
   "source": [
    "Yale_Prednames.sort()"
   ]
  },
  {
   "cell_type": "code",
   "execution_count": 71,
   "metadata": {},
   "outputs": [],
   "source": [
    "Yale_BETnames.sort()"
   ]
  },
  {
   "cell_type": "code",
   "execution_count": 72,
   "metadata": {},
   "outputs": [],
   "source": [
    "Yale_SSnames.sort()"
   ]
  },
  {
   "cell_type": "code",
   "execution_count": 73,
   "metadata": {},
   "outputs": [],
   "source": [
    "Yale_AnatUNetnames.sort()"
   ]
  },
  {
   "cell_type": "code",
   "execution_count": null,
   "metadata": {},
   "outputs": [],
   "source": [
    "len(Yale_Prednames)"
   ]
  },
  {
   "cell_type": "code",
   "execution_count": null,
   "metadata": {},
   "outputs": [],
   "source": [
    "len(Yale_GTnames)"
   ]
  },
  {
   "cell_type": "code",
   "execution_count": null,
   "metadata": {},
   "outputs": [],
   "source": [
    "len(Yale_BETnames)"
   ]
  },
  {
   "cell_type": "code",
   "execution_count": null,
   "metadata": {},
   "outputs": [],
   "source": [
    "len(Yale_SSnames)"
   ]
  },
  {
   "cell_type": "code",
   "execution_count": null,
   "metadata": {},
   "outputs": [],
   "source": [
    "len(Yale_AnatUNetnames)"
   ]
  },
  {
   "cell_type": "code",
   "execution_count": 112,
   "metadata": {},
   "outputs": [],
   "source": [
    "Yale_Pred_df = pd.DataFrame(columns=('File', 'Pred_Dice', 'Pred_Jaccard', 'Pred_HD(voxels)', 'Pred_Sensitivity', 'Pred_Specificity'))\n",
    "for idx, Yale_GTname in enumerate(Yale_GTnames):\n",
    "    Yale_GT_data, Yale_GT_header = load(Yale_GTnames[idx])\n",
    "    Yale_Pred_data, Yale_Pred_header = load(Yale_Prednames[idx])\n",
    "    dice = binary.dc(Yale_GT_data,Yale_Pred_data)\n",
    "    jc = binary.jc(Yale_GT_data,Yale_Pred_data)\n",
    "    hd = binary.hd(Yale_GT_data,Yale_Pred_data)\n",
    "    sens = binary.sensitivity(Yale_GT_data,Yale_Pred_data)\n",
    "    spec = binary.specificity(Yale_GT_data,Yale_Pred_data)\n",
    "    Yale_Pred_df.loc[idx] = (Yale_GTname, dice, jc, hd, sens, spec)"
   ]
  },
  {
   "cell_type": "code",
   "execution_count": 113,
   "metadata": {},
   "outputs": [
    {
     "data": {
      "text/html": [
       "<div>\n",
       "<style scoped>\n",
       "    .dataframe tbody tr th:only-of-type {\n",
       "        vertical-align: middle;\n",
       "    }\n",
       "\n",
       "    .dataframe tbody tr th {\n",
       "        vertical-align: top;\n",
       "    }\n",
       "\n",
       "    .dataframe thead th {\n",
       "        text-align: right;\n",
       "    }\n",
       "</style>\n",
       "<table border=\"1\" class=\"dataframe\">\n",
       "  <thead>\n",
       "    <tr style=\"text-align: right;\">\n",
       "      <th></th>\n",
       "      <th>Pred_Dice</th>\n",
       "      <th>Pred_Jaccard</th>\n",
       "      <th>Pred_HD(voxels)</th>\n",
       "      <th>Pred_Sensitivity</th>\n",
       "      <th>Pred_Specificity</th>\n",
       "    </tr>\n",
       "  </thead>\n",
       "  <tbody>\n",
       "    <tr>\n",
       "      <th>count</th>\n",
       "      <td>52.000000</td>\n",
       "      <td>52.000000</td>\n",
       "      <td>52.000000</td>\n",
       "      <td>52.000000</td>\n",
       "      <td>52.000000</td>\n",
       "    </tr>\n",
       "    <tr>\n",
       "      <th>mean</th>\n",
       "      <td>0.891578</td>\n",
       "      <td>0.818759</td>\n",
       "      <td>5.502982</td>\n",
       "      <td>0.838958</td>\n",
       "      <td>0.999193</td>\n",
       "    </tr>\n",
       "    <tr>\n",
       "      <th>std</th>\n",
       "      <td>0.130196</td>\n",
       "      <td>0.126672</td>\n",
       "      <td>11.010951</td>\n",
       "      <td>0.120448</td>\n",
       "      <td>0.002723</td>\n",
       "    </tr>\n",
       "    <tr>\n",
       "      <th>min</th>\n",
       "      <td>0.000000</td>\n",
       "      <td>0.000000</td>\n",
       "      <td>2.000000</td>\n",
       "      <td>0.000000</td>\n",
       "      <td>0.981927</td>\n",
       "    </tr>\n",
       "    <tr>\n",
       "      <th>25%</th>\n",
       "      <td>0.907153</td>\n",
       "      <td>0.830084</td>\n",
       "      <td>2.449490</td>\n",
       "      <td>0.840032</td>\n",
       "      <td>0.999874</td>\n",
       "    </tr>\n",
       "    <tr>\n",
       "      <th>50%</th>\n",
       "      <td>0.916446</td>\n",
       "      <td>0.845778</td>\n",
       "      <td>3.000000</td>\n",
       "      <td>0.853231</td>\n",
       "      <td>0.999970</td>\n",
       "    </tr>\n",
       "    <tr>\n",
       "      <th>75%</th>\n",
       "      <td>0.926167</td>\n",
       "      <td>0.862487</td>\n",
       "      <td>4.123106</td>\n",
       "      <td>0.865322</td>\n",
       "      <td>0.999991</td>\n",
       "    </tr>\n",
       "    <tr>\n",
       "      <th>max</th>\n",
       "      <td>0.944693</td>\n",
       "      <td>0.895182</td>\n",
       "      <td>76.223356</td>\n",
       "      <td>0.899281</td>\n",
       "      <td>1.000000</td>\n",
       "    </tr>\n",
       "  </tbody>\n",
       "</table>\n",
       "</div>"
      ],
      "text/plain": [
       "       Pred_Dice  Pred_Jaccard  Pred_HD(voxels)  Pred_Sensitivity  \\\n",
       "count  52.000000     52.000000        52.000000         52.000000   \n",
       "mean    0.891578      0.818759         5.502982          0.838958   \n",
       "std     0.130196      0.126672        11.010951          0.120448   \n",
       "min     0.000000      0.000000         2.000000          0.000000   \n",
       "25%     0.907153      0.830084         2.449490          0.840032   \n",
       "50%     0.916446      0.845778         3.000000          0.853231   \n",
       "75%     0.926167      0.862487         4.123106          0.865322   \n",
       "max     0.944693      0.895182        76.223356          0.899281   \n",
       "\n",
       "       Pred_Specificity  \n",
       "count         52.000000  \n",
       "mean           0.999193  \n",
       "std            0.002723  \n",
       "min            0.981927  \n",
       "25%            0.999874  \n",
       "50%            0.999970  \n",
       "75%            0.999991  \n",
       "max            1.000000  "
      ]
     },
     "execution_count": 113,
     "metadata": {},
     "output_type": "execute_result"
    }
   ],
   "source": [
    "Yale_Pred_df.describe()"
   ]
  },
  {
   "cell_type": "code",
   "execution_count": 76,
   "metadata": {},
   "outputs": [],
   "source": [
    "Yale_BET_df = pd.DataFrame(columns=('File', 'BET_Dice', 'BET_Jaccard', 'BET_HD(voxels)', 'BET_Sensitivity', 'BET_Specificity'))\n",
    "for idx, Yale_GTname in enumerate(Yale_GTnames):\n",
    "    Yale_GT_data, Yale_GT_header = load(Yale_GTnames[idx])\n",
    "    Yale_BET_data, Yale_BET_header = load(Yale_BETnames[idx])\n",
    "    dice = binary.dc(Yale_GT_data,Yale_BET_data)\n",
    "    jc = binary.jc(Yale_GT_data,Yale_BET_data)\n",
    "    hd = binary.hd(Yale_GT_data,Yale_BET_data)\n",
    "    sens = binary.sensitivity(Yale_GT_data,Yale_BET_data)\n",
    "    spec = binary.specificity(Yale_GT_data,Yale_BET_data)\n",
    "    Yale_BET_df.loc[idx] = (Yale_GTname, dice, jc, hd, sens, spec)"
   ]
  },
  {
   "cell_type": "code",
   "execution_count": 77,
   "metadata": {},
   "outputs": [
    {
     "data": {
      "text/html": [
       "<div>\n",
       "<style scoped>\n",
       "    .dataframe tbody tr th:only-of-type {\n",
       "        vertical-align: middle;\n",
       "    }\n",
       "\n",
       "    .dataframe tbody tr th {\n",
       "        vertical-align: top;\n",
       "    }\n",
       "\n",
       "    .dataframe thead th {\n",
       "        text-align: right;\n",
       "    }\n",
       "</style>\n",
       "<table border=\"1\" class=\"dataframe\">\n",
       "  <thead>\n",
       "    <tr style=\"text-align: right;\">\n",
       "      <th></th>\n",
       "      <th>BET_Dice</th>\n",
       "      <th>BET_Jaccard</th>\n",
       "      <th>BET_HD(voxels)</th>\n",
       "      <th>BET_Sensitivity</th>\n",
       "      <th>BET_Specificity</th>\n",
       "    </tr>\n",
       "  </thead>\n",
       "  <tbody>\n",
       "    <tr>\n",
       "      <th>count</th>\n",
       "      <td>52.000000</td>\n",
       "      <td>52.000000</td>\n",
       "      <td>52.000000</td>\n",
       "      <td>52.000000</td>\n",
       "      <td>52.000000</td>\n",
       "    </tr>\n",
       "    <tr>\n",
       "      <th>mean</th>\n",
       "      <td>0.222137</td>\n",
       "      <td>0.125998</td>\n",
       "      <td>27.197802</td>\n",
       "      <td>0.126674</td>\n",
       "      <td>0.998439</td>\n",
       "    </tr>\n",
       "    <tr>\n",
       "      <th>std</th>\n",
       "      <td>0.055698</td>\n",
       "      <td>0.034279</td>\n",
       "      <td>8.625698</td>\n",
       "      <td>0.033525</td>\n",
       "      <td>0.004379</td>\n",
       "    </tr>\n",
       "    <tr>\n",
       "      <th>min</th>\n",
       "      <td>0.004408</td>\n",
       "      <td>0.002209</td>\n",
       "      <td>14.866069</td>\n",
       "      <td>0.002617</td>\n",
       "      <td>0.980310</td>\n",
       "    </tr>\n",
       "    <tr>\n",
       "      <th>25%</th>\n",
       "      <td>0.192533</td>\n",
       "      <td>0.106521</td>\n",
       "      <td>20.862519</td>\n",
       "      <td>0.107124</td>\n",
       "      <td>0.999812</td>\n",
       "    </tr>\n",
       "    <tr>\n",
       "      <th>50%</th>\n",
       "      <td>0.227897</td>\n",
       "      <td>0.128602</td>\n",
       "      <td>26.076781</td>\n",
       "      <td>0.128828</td>\n",
       "      <td>1.000000</td>\n",
       "    </tr>\n",
       "    <tr>\n",
       "      <th>75%</th>\n",
       "      <td>0.259946</td>\n",
       "      <td>0.149391</td>\n",
       "      <td>28.343928</td>\n",
       "      <td>0.151133</td>\n",
       "      <td>1.000000</td>\n",
       "    </tr>\n",
       "    <tr>\n",
       "      <th>max</th>\n",
       "      <td>0.308524</td>\n",
       "      <td>0.182399</td>\n",
       "      <td>49.588305</td>\n",
       "      <td>0.182399</td>\n",
       "      <td>1.000000</td>\n",
       "    </tr>\n",
       "  </tbody>\n",
       "</table>\n",
       "</div>"
      ],
      "text/plain": [
       "        BET_Dice  BET_Jaccard  BET_HD(voxels)  BET_Sensitivity  \\\n",
       "count  52.000000    52.000000       52.000000        52.000000   \n",
       "mean    0.222137     0.125998       27.197802         0.126674   \n",
       "std     0.055698     0.034279        8.625698         0.033525   \n",
       "min     0.004408     0.002209       14.866069         0.002617   \n",
       "25%     0.192533     0.106521       20.862519         0.107124   \n",
       "50%     0.227897     0.128602       26.076781         0.128828   \n",
       "75%     0.259946     0.149391       28.343928         0.151133   \n",
       "max     0.308524     0.182399       49.588305         0.182399   \n",
       "\n",
       "       BET_Specificity  \n",
       "count        52.000000  \n",
       "mean          0.998439  \n",
       "std           0.004379  \n",
       "min           0.980310  \n",
       "25%           0.999812  \n",
       "50%           1.000000  \n",
       "75%           1.000000  \n",
       "max           1.000000  "
      ]
     },
     "execution_count": 77,
     "metadata": {},
     "output_type": "execute_result"
    }
   ],
   "source": [
    "Yale_BET_df.describe()"
   ]
  },
  {
   "cell_type": "code",
   "execution_count": 78,
   "metadata": {},
   "outputs": [],
   "source": [
    "Yale_3dSS_df = pd.DataFrame(columns=('File', '3dSS_Dice', '3dSS_Jaccard', '3dSS_HD(voxels)', '3dSS_Sensitivity', '3dSS_Specificity'))\n",
    "for idx, Yale_GTname in enumerate(Yale_GTnames):\n",
    "    Yale_GT_data, Yale_GT_header = load(Yale_GTnames[idx])\n",
    "    Yale_SS_data, Yale_BET_header = load(Yale_SSnames[idx])\n",
    "    dice = binary.dc(Yale_GT_data,Yale_SS_data)\n",
    "    jc = binary.jc(Yale_GT_data,Yale_SS_data)\n",
    "    hd = binary.hd(Yale_GT_data,Yale_SS_data)\n",
    "    sens = binary.sensitivity(Yale_GT_data,Yale_SS_data)\n",
    "    spec = binary.specificity(Yale_GT_data,Yale_SS_data)\n",
    "    Yale_3dSS_df.loc[idx] = (Yale_GTname, dice, jc, hd, sens, spec)"
   ]
  },
  {
   "cell_type": "code",
   "execution_count": 79,
   "metadata": {},
   "outputs": [
    {
     "data": {
      "text/html": [
       "<div>\n",
       "<style scoped>\n",
       "    .dataframe tbody tr th:only-of-type {\n",
       "        vertical-align: middle;\n",
       "    }\n",
       "\n",
       "    .dataframe tbody tr th {\n",
       "        vertical-align: top;\n",
       "    }\n",
       "\n",
       "    .dataframe thead th {\n",
       "        text-align: right;\n",
       "    }\n",
       "</style>\n",
       "<table border=\"1\" class=\"dataframe\">\n",
       "  <thead>\n",
       "    <tr style=\"text-align: right;\">\n",
       "      <th></th>\n",
       "      <th>3dSS_Dice</th>\n",
       "      <th>3dSS_Jaccard</th>\n",
       "      <th>3dSS_HD(voxels)</th>\n",
       "      <th>3dSS_Sensitivity</th>\n",
       "      <th>3dSS_Specificity</th>\n",
       "    </tr>\n",
       "  </thead>\n",
       "  <tbody>\n",
       "    <tr>\n",
       "      <th>count</th>\n",
       "      <td>52.000000</td>\n",
       "      <td>52.000000</td>\n",
       "      <td>52.000000</td>\n",
       "      <td>52.000000</td>\n",
       "      <td>52.000000</td>\n",
       "    </tr>\n",
       "    <tr>\n",
       "      <th>mean</th>\n",
       "      <td>0.254807</td>\n",
       "      <td>0.148280</td>\n",
       "      <td>26.495356</td>\n",
       "      <td>0.148982</td>\n",
       "      <td>0.999050</td>\n",
       "    </tr>\n",
       "    <tr>\n",
       "      <th>std</th>\n",
       "      <td>0.077397</td>\n",
       "      <td>0.052518</td>\n",
       "      <td>6.893871</td>\n",
       "      <td>0.052956</td>\n",
       "      <td>0.002774</td>\n",
       "    </tr>\n",
       "    <tr>\n",
       "      <th>min</th>\n",
       "      <td>0.007284</td>\n",
       "      <td>0.003655</td>\n",
       "      <td>15.264338</td>\n",
       "      <td>0.004470</td>\n",
       "      <td>0.980785</td>\n",
       "    </tr>\n",
       "    <tr>\n",
       "      <th>25%</th>\n",
       "      <td>0.224222</td>\n",
       "      <td>0.126268</td>\n",
       "      <td>21.656073</td>\n",
       "      <td>0.128181</td>\n",
       "      <td>0.999076</td>\n",
       "    </tr>\n",
       "    <tr>\n",
       "      <th>50%</th>\n",
       "      <td>0.248625</td>\n",
       "      <td>0.141960</td>\n",
       "      <td>25.971136</td>\n",
       "      <td>0.142008</td>\n",
       "      <td>0.999887</td>\n",
       "    </tr>\n",
       "    <tr>\n",
       "      <th>75%</th>\n",
       "      <td>0.270666</td>\n",
       "      <td>0.156515</td>\n",
       "      <td>30.366251</td>\n",
       "      <td>0.157389</td>\n",
       "      <td>0.999994</td>\n",
       "    </tr>\n",
       "    <tr>\n",
       "      <th>max</th>\n",
       "      <td>0.490708</td>\n",
       "      <td>0.325125</td>\n",
       "      <td>44.485953</td>\n",
       "      <td>0.330183</td>\n",
       "      <td>1.000000</td>\n",
       "    </tr>\n",
       "  </tbody>\n",
       "</table>\n",
       "</div>"
      ],
      "text/plain": [
       "       3dSS_Dice  3dSS_Jaccard  3dSS_HD(voxels)  3dSS_Sensitivity  \\\n",
       "count  52.000000     52.000000        52.000000         52.000000   \n",
       "mean    0.254807      0.148280        26.495356          0.148982   \n",
       "std     0.077397      0.052518         6.893871          0.052956   \n",
       "min     0.007284      0.003655        15.264338          0.004470   \n",
       "25%     0.224222      0.126268        21.656073          0.128181   \n",
       "50%     0.248625      0.141960        25.971136          0.142008   \n",
       "75%     0.270666      0.156515        30.366251          0.157389   \n",
       "max     0.490708      0.325125        44.485953          0.330183   \n",
       "\n",
       "       3dSS_Specificity  \n",
       "count         52.000000  \n",
       "mean           0.999050  \n",
       "std            0.002774  \n",
       "min            0.980785  \n",
       "25%            0.999076  \n",
       "50%            0.999887  \n",
       "75%            0.999994  \n",
       "max            1.000000  "
      ]
     },
     "execution_count": 79,
     "metadata": {},
     "output_type": "execute_result"
    }
   ],
   "source": [
    "Yale_3dSS_df.describe()"
   ]
  },
  {
   "cell_type": "code",
   "execution_count": 114,
   "metadata": {},
   "outputs": [],
   "source": [
    "Yalemerge1 = pd.merge(Yale_Pred_df, Yale_BET_df)"
   ]
  },
  {
   "cell_type": "code",
   "execution_count": 115,
   "metadata": {},
   "outputs": [],
   "source": [
    "Yalemerge2 = pd.merge(Yalemerge1, Yale_3dSS_df)"
   ]
  },
  {
   "cell_type": "code",
   "execution_count": 116,
   "metadata": {},
   "outputs": [],
   "source": [
    "Fullmerge = pd.merge(WSUmerge2, Yalemerge2, how='outer')"
   ]
  },
  {
   "cell_type": "code",
   "execution_count": 117,
   "metadata": {},
   "outputs": [
    {
     "data": {
      "text/plain": [
       "Index(['File', 'Pred_Dice', 'Pred_Jaccard', 'Pred_HD(voxels)',\n",
       "       'Pred_Sensitivity', 'Pred_Specificity', 'BET_Dice', 'BET_Jaccard',\n",
       "       'BET_HD(voxels)', 'BET_Sensitivity', 'BET_Specificity', '3dSS_Dice',\n",
       "       '3dSS_Jaccard', '3dSS_HD(voxels)', '3dSS_Sensitivity',\n",
       "       '3dSS_Specificity'],\n",
       "      dtype='object')"
      ]
     },
     "execution_count": 117,
     "metadata": {},
     "output_type": "execute_result"
    }
   ],
   "source": [
    "Fullmerge.columns"
   ]
  },
  {
   "cell_type": "code",
   "execution_count": 118,
   "metadata": {},
   "outputs": [],
   "source": [
    "temp_subs = Fullmerge['File'].str.rsplit(\"_\", n=3, expand=True)"
   ]
  },
  {
   "cell_type": "code",
   "execution_count": 119,
   "metadata": {},
   "outputs": [],
   "source": [
    "Fullmerge['Subject'] = temp_subs[1]\n",
    "Fullmerge['Run'] = temp_subs[2]\n",
    "Fullmerge['Volume'] = temp_subs[3]"
   ]
  },
  {
   "cell_type": "code",
   "execution_count": null,
   "metadata": {},
   "outputs": [],
   "source": [
    "Fullmerge"
   ]
  },
  {
   "cell_type": "markdown",
   "metadata": {},
   "source": [
    "## Failure Analysis: Inspect all masks w/ Dice < 0.9"
   ]
  },
  {
   "cell_type": "code",
   "execution_count": 123,
   "metadata": {},
   "outputs": [
    {
     "data": {
      "text/html": [
       "<div>\n",
       "<style scoped>\n",
       "    .dataframe tbody tr th:only-of-type {\n",
       "        vertical-align: middle;\n",
       "    }\n",
       "\n",
       "    .dataframe tbody tr th {\n",
       "        vertical-align: top;\n",
       "    }\n",
       "\n",
       "    .dataframe thead th {\n",
       "        text-align: right;\n",
       "    }\n",
       "</style>\n",
       "<table border=\"1\" class=\"dataframe\">\n",
       "  <thead>\n",
       "    <tr style=\"text-align: right;\">\n",
       "      <th></th>\n",
       "      <th>File</th>\n",
       "      <th>Pred_Dice</th>\n",
       "      <th>Pred_Jaccard</th>\n",
       "      <th>Pred_HD(voxels)</th>\n",
       "      <th>Pred_Sensitivity</th>\n",
       "      <th>Pred_Specificity</th>\n",
       "      <th>BET_Dice</th>\n",
       "      <th>BET_Jaccard</th>\n",
       "      <th>BET_HD(voxels)</th>\n",
       "      <th>BET_Sensitivity</th>\n",
       "      <th>BET_Specificity</th>\n",
       "      <th>3dSS_Dice</th>\n",
       "      <th>3dSS_Jaccard</th>\n",
       "      <th>3dSS_HD(voxels)</th>\n",
       "      <th>3dSS_Sensitivity</th>\n",
       "      <th>3dSS_Specificity</th>\n",
       "      <th>Subject</th>\n",
       "      <th>Run</th>\n",
       "      <th>Volume</th>\n",
       "    </tr>\n",
       "  </thead>\n",
       "  <tbody>\n",
       "    <tr>\n",
       "      <th>6</th>\n",
       "      <td>test-GT-masks-WSU/mask_zpr_2019-T1_run1_vol012...</td>\n",
       "      <td>0.890505</td>\n",
       "      <td>0.802622</td>\n",
       "      <td>2.828427</td>\n",
       "      <td>0.813284</td>\n",
       "      <td>0.999947</td>\n",
       "      <td>0.042254</td>\n",
       "      <td>0.021583</td>\n",
       "      <td>30.675723</td>\n",
       "      <td>0.021583</td>\n",
       "      <td>1.000000</td>\n",
       "      <td>0.052004</td>\n",
       "      <td>0.026696</td>\n",
       "      <td>30.364453</td>\n",
       "      <td>0.026696</td>\n",
       "      <td>1.000000</td>\n",
       "      <td>2019-T1</td>\n",
       "      <td>run1</td>\n",
       "      <td>vol0121.nii.gz</td>\n",
       "    </tr>\n",
       "    <tr>\n",
       "      <th>7</th>\n",
       "      <td>test-GT-masks-WSU/mask_zpr_2019-T1_run1_vol015...</td>\n",
       "      <td>0.890770</td>\n",
       "      <td>0.803052</td>\n",
       "      <td>3.741657</td>\n",
       "      <td>0.812500</td>\n",
       "      <td>0.999953</td>\n",
       "      <td>0.041728</td>\n",
       "      <td>0.021309</td>\n",
       "      <td>30.805844</td>\n",
       "      <td>0.021309</td>\n",
       "      <td>1.000000</td>\n",
       "      <td>0.054287</td>\n",
       "      <td>0.027901</td>\n",
       "      <td>29.966648</td>\n",
       "      <td>0.027901</td>\n",
       "      <td>1.000000</td>\n",
       "      <td>2019-T1</td>\n",
       "      <td>run1</td>\n",
       "      <td>vol0150.nii.gz</td>\n",
       "    </tr>\n",
       "    <tr>\n",
       "      <th>9</th>\n",
       "      <td>test-GT-masks-WSU/mask_zpr_2019-T1_run2_vol017...</td>\n",
       "      <td>0.888273</td>\n",
       "      <td>0.799002</td>\n",
       "      <td>3.162278</td>\n",
       "      <td>0.807055</td>\n",
       "      <td>0.999959</td>\n",
       "      <td>0.043005</td>\n",
       "      <td>0.021975</td>\n",
       "      <td>31.048349</td>\n",
       "      <td>0.021975</td>\n",
       "      <td>1.000000</td>\n",
       "      <td>0.053341</td>\n",
       "      <td>0.027402</td>\n",
       "      <td>31.208973</td>\n",
       "      <td>0.027402</td>\n",
       "      <td>1.000000</td>\n",
       "      <td>2019-T1</td>\n",
       "      <td>run2</td>\n",
       "      <td>vol0170.nii.gz</td>\n",
       "    </tr>\n",
       "    <tr>\n",
       "      <th>37</th>\n",
       "      <td>test-GT-masks-WSU/mask_zpr_2040-T1_run2_vol002...</td>\n",
       "      <td>0.896150</td>\n",
       "      <td>0.811840</td>\n",
       "      <td>3.605551</td>\n",
       "      <td>0.815707</td>\n",
       "      <td>0.999895</td>\n",
       "      <td>0.000000</td>\n",
       "      <td>0.000000</td>\n",
       "      <td>57.853263</td>\n",
       "      <td>0.000000</td>\n",
       "      <td>0.979148</td>\n",
       "      <td>0.009514</td>\n",
       "      <td>0.004780</td>\n",
       "      <td>55.072679</td>\n",
       "      <td>0.005459</td>\n",
       "      <td>0.980659</td>\n",
       "      <td>2040-T1</td>\n",
       "      <td>run2</td>\n",
       "      <td>vol0020.nii.gz</td>\n",
       "    </tr>\n",
       "    <tr>\n",
       "      <th>205</th>\n",
       "      <td>test-GT-masks-WSU/mask_zpr_2228-T2_me123_vol03...</td>\n",
       "      <td>0.596073</td>\n",
       "      <td>0.424575</td>\n",
       "      <td>7.681146</td>\n",
       "      <td>0.561922</td>\n",
       "      <td>0.989415</td>\n",
       "      <td>0.231161</td>\n",
       "      <td>0.130685</td>\n",
       "      <td>22.671568</td>\n",
       "      <td>0.130685</td>\n",
       "      <td>1.000000</td>\n",
       "      <td>0.281553</td>\n",
       "      <td>0.163841</td>\n",
       "      <td>21.610183</td>\n",
       "      <td>0.163889</td>\n",
       "      <td>0.999940</td>\n",
       "      <td>2228-T2</td>\n",
       "      <td>me123</td>\n",
       "      <td>vol0330.nii.gz</td>\n",
       "    </tr>\n",
       "    <tr>\n",
       "      <th>215</th>\n",
       "      <td>test-GT-masks-Yale/bin_mask_zpr_FS0004_S005_vo...</td>\n",
       "      <td>0.844461</td>\n",
       "      <td>0.730795</td>\n",
       "      <td>7.549834</td>\n",
       "      <td>0.795871</td>\n",
       "      <td>0.998521</td>\n",
       "      <td>0.177219</td>\n",
       "      <td>0.097225</td>\n",
       "      <td>26.720778</td>\n",
       "      <td>0.097403</td>\n",
       "      <td>0.999688</td>\n",
       "      <td>0.211734</td>\n",
       "      <td>0.118402</td>\n",
       "      <td>26.419690</td>\n",
       "      <td>0.119127</td>\n",
       "      <td>0.999201</td>\n",
       "      <td>FS0004</td>\n",
       "      <td>S005</td>\n",
       "      <td>vol0100.nii.gz</td>\n",
       "    </tr>\n",
       "    <tr>\n",
       "      <th>216</th>\n",
       "      <td>test-GT-masks-Yale/bin_mask_zpr_FS0004_S007_vo...</td>\n",
       "      <td>0.890095</td>\n",
       "      <td>0.801956</td>\n",
       "      <td>4.123106</td>\n",
       "      <td>0.828562</td>\n",
       "      <td>0.999412</td>\n",
       "      <td>0.183473</td>\n",
       "      <td>0.101002</td>\n",
       "      <td>27.166155</td>\n",
       "      <td>0.101156</td>\n",
       "      <td>0.999739</td>\n",
       "      <td>0.214819</td>\n",
       "      <td>0.120335</td>\n",
       "      <td>25.961510</td>\n",
       "      <td>0.121243</td>\n",
       "      <td>0.999004</td>\n",
       "      <td>FS0004</td>\n",
       "      <td>S007</td>\n",
       "      <td>vol0100.nii.gz</td>\n",
       "    </tr>\n",
       "    <tr>\n",
       "      <th>225</th>\n",
       "      <td>test-GT-masks-Yale/bin_mask_zpr_FS0006_S003_vo...</td>\n",
       "      <td>0.810984</td>\n",
       "      <td>0.682064</td>\n",
       "      <td>5.744563</td>\n",
       "      <td>0.861580</td>\n",
       "      <td>0.995629</td>\n",
       "      <td>0.277969</td>\n",
       "      <td>0.161419</td>\n",
       "      <td>19.104973</td>\n",
       "      <td>0.161419</td>\n",
       "      <td>1.000000</td>\n",
       "      <td>0.171884</td>\n",
       "      <td>0.094022</td>\n",
       "      <td>32.171416</td>\n",
       "      <td>0.094108</td>\n",
       "      <td>0.999782</td>\n",
       "      <td>FS0006</td>\n",
       "      <td>S003</td>\n",
       "      <td>vol0100.nii.gz</td>\n",
       "    </tr>\n",
       "    <tr>\n",
       "      <th>226</th>\n",
       "      <td>test-GT-masks-Yale/bin_mask_zpr_FS0006_S005_vo...</td>\n",
       "      <td>0.800875</td>\n",
       "      <td>0.667883</td>\n",
       "      <td>6.000000</td>\n",
       "      <td>0.863748</td>\n",
       "      <td>0.995371</td>\n",
       "      <td>0.282262</td>\n",
       "      <td>0.164322</td>\n",
       "      <td>22.135944</td>\n",
       "      <td>0.164576</td>\n",
       "      <td>0.999813</td>\n",
       "      <td>0.162802</td>\n",
       "      <td>0.088614</td>\n",
       "      <td>31.953091</td>\n",
       "      <td>0.088631</td>\n",
       "      <td>0.999952</td>\n",
       "      <td>FS0006</td>\n",
       "      <td>S005</td>\n",
       "      <td>vol0100.nii.gz</td>\n",
       "    </tr>\n",
       "    <tr>\n",
       "      <th>227</th>\n",
       "      <td>test-GT-masks-Yale/bin_mask_zpr_FS0006_S006_vo...</td>\n",
       "      <td>0.803805</td>\n",
       "      <td>0.671968</td>\n",
       "      <td>7.000000</td>\n",
       "      <td>0.891364</td>\n",
       "      <td>0.995070</td>\n",
       "      <td>0.259021</td>\n",
       "      <td>0.148779</td>\n",
       "      <td>26.038433</td>\n",
       "      <td>0.151100</td>\n",
       "      <td>0.998098</td>\n",
       "      <td>0.164960</td>\n",
       "      <td>0.089894</td>\n",
       "      <td>31.953091</td>\n",
       "      <td>0.089947</td>\n",
       "      <td>0.999853</td>\n",
       "      <td>FS0006</td>\n",
       "      <td>S006</td>\n",
       "      <td>vol0100.nii.gz</td>\n",
       "    </tr>\n",
       "    <tr>\n",
       "      <th>228</th>\n",
       "      <td>test-GT-masks-Yale/bin_mask_zpr_FS0006_S007_vo...</td>\n",
       "      <td>0.828979</td>\n",
       "      <td>0.707911</td>\n",
       "      <td>7.000000</td>\n",
       "      <td>0.898772</td>\n",
       "      <td>0.995949</td>\n",
       "      <td>0.227256</td>\n",
       "      <td>0.128194</td>\n",
       "      <td>27.730849</td>\n",
       "      <td>0.131691</td>\n",
       "      <td>0.996670</td>\n",
       "      <td>0.154758</td>\n",
       "      <td>0.083869</td>\n",
       "      <td>32.863353</td>\n",
       "      <td>0.083942</td>\n",
       "      <td>0.999775</td>\n",
       "      <td>FS0006</td>\n",
       "      <td>S007</td>\n",
       "      <td>vol0100.nii.gz</td>\n",
       "    </tr>\n",
       "    <tr>\n",
       "      <th>229</th>\n",
       "      <td>test-GT-masks-Yale/bin_mask_zpr_FS0006_S009_vo...</td>\n",
       "      <td>0.000000</td>\n",
       "      <td>0.000000</td>\n",
       "      <td>76.223356</td>\n",
       "      <td>0.000000</td>\n",
       "      <td>0.981927</td>\n",
       "      <td>0.004408</td>\n",
       "      <td>0.002209</td>\n",
       "      <td>49.588305</td>\n",
       "      <td>0.002617</td>\n",
       "      <td>0.980310</td>\n",
       "      <td>0.007284</td>\n",
       "      <td>0.003655</td>\n",
       "      <td>44.485953</td>\n",
       "      <td>0.004470</td>\n",
       "      <td>0.980785</td>\n",
       "      <td>FS0006</td>\n",
       "      <td>S009</td>\n",
       "      <td>vol0100.nii.gz</td>\n",
       "    </tr>\n",
       "  </tbody>\n",
       "</table>\n",
       "</div>"
      ],
      "text/plain": [
       "                                                  File  Pred_Dice  \\\n",
       "6    test-GT-masks-WSU/mask_zpr_2019-T1_run1_vol012...   0.890505   \n",
       "7    test-GT-masks-WSU/mask_zpr_2019-T1_run1_vol015...   0.890770   \n",
       "9    test-GT-masks-WSU/mask_zpr_2019-T1_run2_vol017...   0.888273   \n",
       "37   test-GT-masks-WSU/mask_zpr_2040-T1_run2_vol002...   0.896150   \n",
       "205  test-GT-masks-WSU/mask_zpr_2228-T2_me123_vol03...   0.596073   \n",
       "215  test-GT-masks-Yale/bin_mask_zpr_FS0004_S005_vo...   0.844461   \n",
       "216  test-GT-masks-Yale/bin_mask_zpr_FS0004_S007_vo...   0.890095   \n",
       "225  test-GT-masks-Yale/bin_mask_zpr_FS0006_S003_vo...   0.810984   \n",
       "226  test-GT-masks-Yale/bin_mask_zpr_FS0006_S005_vo...   0.800875   \n",
       "227  test-GT-masks-Yale/bin_mask_zpr_FS0006_S006_vo...   0.803805   \n",
       "228  test-GT-masks-Yale/bin_mask_zpr_FS0006_S007_vo...   0.828979   \n",
       "229  test-GT-masks-Yale/bin_mask_zpr_FS0006_S009_vo...   0.000000   \n",
       "\n",
       "     Pred_Jaccard  Pred_HD(voxels)  Pred_Sensitivity  Pred_Specificity  \\\n",
       "6        0.802622         2.828427          0.813284          0.999947   \n",
       "7        0.803052         3.741657          0.812500          0.999953   \n",
       "9        0.799002         3.162278          0.807055          0.999959   \n",
       "37       0.811840         3.605551          0.815707          0.999895   \n",
       "205      0.424575         7.681146          0.561922          0.989415   \n",
       "215      0.730795         7.549834          0.795871          0.998521   \n",
       "216      0.801956         4.123106          0.828562          0.999412   \n",
       "225      0.682064         5.744563          0.861580          0.995629   \n",
       "226      0.667883         6.000000          0.863748          0.995371   \n",
       "227      0.671968         7.000000          0.891364          0.995070   \n",
       "228      0.707911         7.000000          0.898772          0.995949   \n",
       "229      0.000000        76.223356          0.000000          0.981927   \n",
       "\n",
       "     BET_Dice  BET_Jaccard  BET_HD(voxels)  BET_Sensitivity  BET_Specificity  \\\n",
       "6    0.042254     0.021583       30.675723         0.021583         1.000000   \n",
       "7    0.041728     0.021309       30.805844         0.021309         1.000000   \n",
       "9    0.043005     0.021975       31.048349         0.021975         1.000000   \n",
       "37   0.000000     0.000000       57.853263         0.000000         0.979148   \n",
       "205  0.231161     0.130685       22.671568         0.130685         1.000000   \n",
       "215  0.177219     0.097225       26.720778         0.097403         0.999688   \n",
       "216  0.183473     0.101002       27.166155         0.101156         0.999739   \n",
       "225  0.277969     0.161419       19.104973         0.161419         1.000000   \n",
       "226  0.282262     0.164322       22.135944         0.164576         0.999813   \n",
       "227  0.259021     0.148779       26.038433         0.151100         0.998098   \n",
       "228  0.227256     0.128194       27.730849         0.131691         0.996670   \n",
       "229  0.004408     0.002209       49.588305         0.002617         0.980310   \n",
       "\n",
       "     3dSS_Dice  3dSS_Jaccard  3dSS_HD(voxels)  3dSS_Sensitivity  \\\n",
       "6     0.052004      0.026696        30.364453          0.026696   \n",
       "7     0.054287      0.027901        29.966648          0.027901   \n",
       "9     0.053341      0.027402        31.208973          0.027402   \n",
       "37    0.009514      0.004780        55.072679          0.005459   \n",
       "205   0.281553      0.163841        21.610183          0.163889   \n",
       "215   0.211734      0.118402        26.419690          0.119127   \n",
       "216   0.214819      0.120335        25.961510          0.121243   \n",
       "225   0.171884      0.094022        32.171416          0.094108   \n",
       "226   0.162802      0.088614        31.953091          0.088631   \n",
       "227   0.164960      0.089894        31.953091          0.089947   \n",
       "228   0.154758      0.083869        32.863353          0.083942   \n",
       "229   0.007284      0.003655        44.485953          0.004470   \n",
       "\n",
       "     3dSS_Specificity  Subject    Run          Volume  \n",
       "6            1.000000  2019-T1   run1  vol0121.nii.gz  \n",
       "7            1.000000  2019-T1   run1  vol0150.nii.gz  \n",
       "9            1.000000  2019-T1   run2  vol0170.nii.gz  \n",
       "37           0.980659  2040-T1   run2  vol0020.nii.gz  \n",
       "205          0.999940  2228-T2  me123  vol0330.nii.gz  \n",
       "215          0.999201   FS0004   S005  vol0100.nii.gz  \n",
       "216          0.999004   FS0004   S007  vol0100.nii.gz  \n",
       "225          0.999782   FS0006   S003  vol0100.nii.gz  \n",
       "226          0.999952   FS0006   S005  vol0100.nii.gz  \n",
       "227          0.999853   FS0006   S006  vol0100.nii.gz  \n",
       "228          0.999775   FS0006   S007  vol0100.nii.gz  \n",
       "229          0.980785   FS0006   S009  vol0100.nii.gz  "
      ]
     },
     "execution_count": 123,
     "metadata": {},
     "output_type": "execute_result"
    }
   ],
   "source": [
    "Fullmerge[Fullmerge['Pred_Dice'] < 0.9]"
   ]
  },
  {
   "cell_type": "markdown",
   "metadata": {},
   "source": [
    "## Calculate auto-mask volume"
   ]
  },
  {
   "cell_type": "code",
   "execution_count": 25,
   "metadata": {},
   "outputs": [],
   "source": [
    "import nibabel as nb\n",
    "import numpy as np"
   ]
  },
  {
   "cell_type": "code",
   "execution_count": 48,
   "metadata": {},
   "outputs": [],
   "source": [
    "WSU_mask_df = pd.DataFrame(columns=('File', 'MaskVolume'))\n",
    "for idx, Predname in enumerate(Prednames):\n",
    "    WSU_mask = nb.load(Prednames[idx])\n",
    "    num_vox = np.sum(WSU_mask.get_data() > 0)\n",
    "    WSU_mask_df.loc[idx]= (Predname, num_vox)"
   ]
  },
  {
   "cell_type": "code",
   "execution_count": 34,
   "metadata": {},
   "outputs": [],
   "source": [
    "Yale_mask_df = pd.DataFrame(columns=('File', 'MaskVolume'))\n",
    "for idx, Yale_Predname in enumerate(Yale_Prednames):\n",
    "    Yale_mask = nb.load(Yale_Prednames[idx])\n",
    "    num_vox = np.sum(Yale_mask.get_data() > 0)\n",
    "    Yale_mask_df.loc[idx]= (Yale_Predname, num_vox)"
   ]
  },
  {
   "cell_type": "code",
   "execution_count": 124,
   "metadata": {},
   "outputs": [],
   "source": [
    "Maskmerge = pd.merge(WSU_mask_df, Yale_mask_df, how='outer')"
   ]
  },
  {
   "cell_type": "code",
   "execution_count": 126,
   "metadata": {},
   "outputs": [],
   "source": [
    "temp_masksubs = Maskmerge['File'].str.rsplit(\"_\", n=3, expand=True)"
   ]
  },
  {
   "cell_type": "code",
   "execution_count": 128,
   "metadata": {},
   "outputs": [],
   "source": [
    "Maskmerge['Subject'] = temp_subs[1]\n",
    "Maskmerge['Run'] = temp_subs[2]\n",
    "Maskmerge['Volume'] = temp_subs[3]"
   ]
  },
  {
   "cell_type": "code",
   "execution_count": 130,
   "metadata": {},
   "outputs": [
    {
     "data": {
      "text/plain": [
       "Index(['File', 'MaskVolume', 'Subject', 'Run', 'Volume'], dtype='object')"
      ]
     },
     "execution_count": 130,
     "metadata": {},
     "output_type": "execute_result"
    }
   ],
   "source": [
    "Maskmerge.columns"
   ]
  },
  {
   "cell_type": "code",
   "execution_count": 131,
   "metadata": {},
   "outputs": [
    {
     "data": {
      "text/plain": [
       "Index(['File', 'Pred_Dice', 'Pred_Jaccard', 'Pred_HD(voxels)',\n",
       "       'Pred_Sensitivity', 'Pred_Specificity', 'BET_Dice', 'BET_Jaccard',\n",
       "       'BET_HD(voxels)', 'BET_Sensitivity', 'BET_Specificity', '3dSS_Dice',\n",
       "       '3dSS_Jaccard', '3dSS_HD(voxels)', '3dSS_Sensitivity',\n",
       "       '3dSS_Specificity', 'Subject', 'Run', 'Volume'],\n",
       "      dtype='object')"
      ]
     },
     "execution_count": 131,
     "metadata": {},
     "output_type": "execute_result"
    }
   ],
   "source": [
    "Fullmerge.columns"
   ]
  },
  {
   "cell_type": "code",
   "execution_count": 146,
   "metadata": {},
   "outputs": [],
   "source": [
    "Finalmerge = pd.merge(Fullmerge, Maskmerge, on=['Subject','Run','Volume'], how='outer')"
   ]
  },
  {
   "cell_type": "code",
   "execution_count": 147,
   "metadata": {},
   "outputs": [
    {
     "data": {
      "text/plain": [
       "Index(['File_x', 'Pred_Dice', 'Pred_Jaccard', 'Pred_HD(voxels)',\n",
       "       'Pred_Sensitivity', 'Pred_Specificity', 'BET_Dice', 'BET_Jaccard',\n",
       "       'BET_HD(voxels)', 'BET_Sensitivity', 'BET_Specificity', '3dSS_Dice',\n",
       "       '3dSS_Jaccard', '3dSS_HD(voxels)', '3dSS_Sensitivity',\n",
       "       '3dSS_Specificity', 'Subject', 'Run', 'Volume', 'File_y', 'MaskVolume'],\n",
       "      dtype='object')"
      ]
     },
     "execution_count": 147,
     "metadata": {},
     "output_type": "execute_result"
    }
   ],
   "source": [
    "Finalmerge.columns"
   ]
  },
  {
   "cell_type": "code",
   "execution_count": 148,
   "metadata": {},
   "outputs": [],
   "source": [
    "Finalmerge.to_csv('All_Metrics.csv',index=False, index_label=None)"
   ]
  },
  {
   "cell_type": "markdown",
   "metadata": {},
   "source": [
    "## Explore the relationships between mask volume & evaluation metrics"
   ]
  },
  {
   "cell_type": "code",
   "execution_count": 140,
   "metadata": {},
   "outputs": [],
   "source": [
    "import scipy.stats  as stats"
   ]
  },
  {
   "cell_type": "code",
   "execution_count": 141,
   "metadata": {},
   "outputs": [
    {
     "data": {
      "text/plain": [
       "(0.2305197139828305, 0.00018760761296351014)"
      ]
     },
     "execution_count": 141,
     "metadata": {},
     "output_type": "execute_result"
    }
   ],
   "source": [
    "stats.pearsonr(testmerge['MaskVolume'], testmerge['Pred_Dice'])"
   ]
  },
  {
   "cell_type": "code",
   "execution_count": 142,
   "metadata": {},
   "outputs": [
    {
     "data": {
      "text/plain": [
       "(0.26569548346441796, 1.5255479602989552e-05)"
      ]
     },
     "execution_count": 142,
     "metadata": {},
     "output_type": "execute_result"
    }
   ],
   "source": [
    "stats.pearsonr(testmerge['MaskVolume'], testmerge['Pred_Jaccard'])"
   ]
  },
  {
   "cell_type": "code",
   "execution_count": 143,
   "metadata": {},
   "outputs": [
    {
     "data": {
      "text/plain": [
       "(-0.04791920046264553, 0.44343878673592235)"
      ]
     },
     "execution_count": 143,
     "metadata": {},
     "output_type": "execute_result"
    }
   ],
   "source": [
    "stats.pearsonr(testmerge['MaskVolume'], testmerge['Pred_HD(voxels)'])"
   ]
  },
  {
   "cell_type": "code",
   "execution_count": 144,
   "metadata": {},
   "outputs": [
    {
     "data": {
      "text/plain": [
       "(0.2629722245132705, 1.8773383849752945e-05)"
      ]
     },
     "execution_count": 144,
     "metadata": {},
     "output_type": "execute_result"
    }
   ],
   "source": [
    "stats.pearsonr(testmerge['MaskVolume'], testmerge['Pred_Sensitivity'])"
   ]
  },
  {
   "cell_type": "code",
   "execution_count": 145,
   "metadata": {},
   "outputs": [
    {
     "data": {
      "text/plain": [
       "(0.11170111789992458, 0.07328003992016054)"
      ]
     },
     "execution_count": 145,
     "metadata": {},
     "output_type": "execute_result"
    }
   ],
   "source": [
    "stats.pearsonr(testmerge['MaskVolume'], testmerge['Pred_Specificity'])"
   ]
  },
  {
   "cell_type": "code",
   "execution_count": null,
   "metadata": {},
   "outputs": [],
   "source": []
  }
 ],
 "metadata": {
  "kernelspec": {
   "display_name": "Python 3",
   "language": "python",
   "name": "python3"
  },
  "language_info": {
   "codemirror_mode": {
    "name": "ipython",
    "version": 3
   },
   "file_extension": ".py",
   "mimetype": "text/x-python",
   "name": "python",
   "nbconvert_exporter": "python",
   "pygments_lexer": "ipython3",
   "version": "3.7.3"
  }
 },
 "nbformat": 4,
 "nbformat_minor": 2
}
